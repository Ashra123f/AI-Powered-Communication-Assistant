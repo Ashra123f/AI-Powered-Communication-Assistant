{
 "cells": [
  {
   "cell_type": "code",
   "execution_count": null,
   "id": "cb2020b9",
   "metadata": {},
   "outputs": [],
   "source": [
    "# AI-Powered Communication Assistant with SQLite\n",
    "# Author: Md Ashraf\n",
    "# Notes: Emails fetched, analyzed, stored in SQLite, dashboard with Streamlit\n",
    "\n",
    "# Install required packages (run once in terminal)\n",
    "# pip install imapclient pyzmail36 textblob streamlit transformers torch pandas matplotlib seaborn"
   ]
  },
  {
   "cell_type": "code",
   "execution_count": 1,
   "id": "3f761ec0",
   "metadata": {},
   "outputs": [],
   "source": [
    "# Import libraries\n",
    "import imapclient\n",
    "import pyzmail\n",
    "from textblob import TextBlob\n",
    "import re\n",
    "import pandas as pd\n",
    "import matplotlib.pyplot as plt\n",
    "import seaborn as sns\n",
    "from transformers import pipeline\n",
    "import streamlit as st\n",
    "from datetime import datetime, timedelta\n",
    "import sqlite3"
   ]
  },
  {
   "cell_type": "code",
   "execution_count": 2,
   "id": "ef0b260a",
   "metadata": {},
   "outputs": [],
   "source": [
    "EMAIL = \"Your Email Id\"\n",
    "PASSWORD = \"Your Google App Password\" \n",
    "\n",
    "imap_server = \"imap.gmail.com\"\n",
    "imap_obj = imapclient.IMAPClient(imap_server, ssl=True)\n",
    "imap_obj.login(EMAIL, PASSWORD)\n",
    "imap_obj.select_folder('INBOX', readonly=True)\n",
    "\n",
    "UIDs = imap_obj.search(['SINCE', (datetime.now() - timedelta(days=7)).strftime(\"%d-%b-%Y\")])\n",
    "emails = []\n",
    "\n",
    "for uid in UIDs:\n",
    "    raw_message = imap_obj.fetch([uid], ['BODY[]', 'FLAGS'])\n",
    "    message = pyzmail.PyzMessage.factory(raw_message[uid][b'BODY[]'])\n",
    "    subject = message.get_subject()\n",
    "    if message.text_part:\n",
    "        charset = message.text_part.charset if message.text_part.charset else 'utf-8'\n",
    "        body = message.text_part.get_payload().decode(charset, errors='ignore')\n",
    "    else:\n",
    "        body = \"\"\n",
    "    \n",
    "    # Filter relevant support emails\n",
    "    keywords = ['Support', 'Query', 'Request', 'Help']\n",
    "    if any(k.lower() in subject.lower() for k in keywords):\n",
    "        emails.append({\n",
    "            \"sender\": message.get_addresses('from')[0][1],\n",
    "            \"subject\": subject,\n",
    "            \"body\": body,\n",
    "            \"date\": message.get_decoded_header('date')\n",
    "        })"
   ]
  },
  {
   "cell_type": "code",
   "execution_count": 4,
   "id": "d14817f7",
   "metadata": {},
   "outputs": [],
   "source": [
    "# Sentiment Analysis & Priority Detection\n",
    "def detect_sentiment(text):\n",
    "    blob = TextBlob(text)\n",
    "    if blob.sentiment.polarity > 0.1:\n",
    "        return \"Positive\"\n",
    "    elif blob.sentiment.polarity < -0.1:\n",
    "        return \"Negative\"\n",
    "    else:\n",
    "        return \"Neutral\"\n",
    "\n",
    "def detect_priority(text):\n",
    "    urgent_keywords = [\"urgent\",\"immediately\",\"critical\",\"cannot access\",\"stuck\",\"asap\"]\n",
    "    return \"Urgent\" if any(k in text.lower() for k in urgent_keywords) else \"Not Urgent\"\n",
    "\n",
    "for email in emails:\n",
    "    email['sentiment'] = detect_sentiment(email['body'])\n",
    "    email['priority'] = detect_priority(email['body'])\n"
   ]
  },
  {
   "cell_type": "code",
   "execution_count": 5,
   "id": "b1bcc7e6",
   "metadata": {},
   "outputs": [],
   "source": [
    "# Information Extraction\n",
    "def extract_info(text):\n",
    "    phone = re.findall(r'\\+?\\d[\\d -]{8,12}\\d', text)\n",
    "    email_found = re.findall(r'\\b[\\w.-]+?@\\w+?\\.\\w+?\\b', text)\n",
    "    request_summary = \" \".join(text.split()[:20])  # First 20 words\n",
    "    return phone, email_found, request_summary\n",
    "\n",
    "for email in emails:\n",
    "    phone, email_found, summary = extract_info(email['body'])\n",
    "    email['phone'] = phone\n",
    "    email['emails_found'] = email_found\n",
    "    email['request_summary'] = summary\n"
   ]
  },
  {
   "cell_type": "code",
   "execution_count": 6,
   "id": "8ee2ceff",
   "metadata": {},
   "outputs": [
    {
     "name": "stderr",
     "output_type": "stream",
     "text": [
      "Device set to use cpu\n",
      "Truncation was not explicitly activated but `max_length` is provided a specific value, please use `truncation=True` to explicitly truncate examples to max length. Defaulting to 'longest_first' truncation strategy. If you encode pairs of sequences (GLUE-style) with the tokenizer you can select this strategy more precisely by providing a specific strategy to `truncation`.\n",
      "Setting `pad_token_id` to `eos_token_id`:50256 for open-end generation.\n",
      "Both `max_new_tokens` (=256) and `max_length`(=150) seem to have been set. `max_new_tokens` will take precedence. Please refer to the documentation for more information. (https://huggingface.co/docs/transformers/main/en/main_classes/text_generation)\n",
      "Setting `pad_token_id` to `eos_token_id`:50256 for open-end generation.\n",
      "Both `max_new_tokens` (=256) and `max_length`(=150) seem to have been set. `max_new_tokens` will take precedence. Please refer to the documentation for more information. (https://huggingface.co/docs/transformers/main/en/main_classes/text_generation)\n",
      "Setting `pad_token_id` to `eos_token_id`:50256 for open-end generation.\n",
      "Both `max_new_tokens` (=256) and `max_length`(=150) seem to have been set. `max_new_tokens` will take precedence. Please refer to the documentation for more information. (https://huggingface.co/docs/transformers/main/en/main_classes/text_generation)\n",
      "Setting `pad_token_id` to `eos_token_id`:50256 for open-end generation.\n",
      "Both `max_new_tokens` (=256) and `max_length`(=150) seem to have been set. `max_new_tokens` will take precedence. Please refer to the documentation for more information. (https://huggingface.co/docs/transformers/main/en/main_classes/text_generation)\n",
      "Setting `pad_token_id` to `eos_token_id`:50256 for open-end generation.\n",
      "Both `max_new_tokens` (=256) and `max_length`(=150) seem to have been set. `max_new_tokens` will take precedence. Please refer to the documentation for more information. (https://huggingface.co/docs/transformers/main/en/main_classes/text_generation)\n"
     ]
    }
   ],
   "source": [
    "# AI Draft Response (Free local LLM)\n",
    "generator = pipeline(\"text-generation\", model=\"gpt2\")\n",
    "\n",
    "def generate_reply(text):\n",
    "    prompt = f\"Email: {text}\\nDraft a professional, friendly reply:\"\n",
    "    reply = generator(prompt, max_length=150, do_sample=True)[0]['generated_text']\n",
    "    return reply.split(\"Draft a professional\")[0] \n",
    "\n",
    "for email in emails:\n",
    "    email['draft_reply'] = generate_reply(email['body'])"
   ]
  },
  {
   "cell_type": "code",
   "execution_count": 13,
   "id": "f1c33044",
   "metadata": {},
   "outputs": [],
   "source": [
    "# SQLite Database Integration\n",
    "conn = sqlite3.connect('emails.db')\n",
    "cursor = conn.cursor()\n",
    "\n",
    "cursor.execute('''\n",
    "CREATE TABLE IF NOT EXISTS emails (\n",
    "    id INTEGER PRIMARY KEY AUTOINCREMENT,\n",
    "    sender TEXT,\n",
    "    subject TEXT,\n",
    "    body TEXT,\n",
    "    date_received TEXT,\n",
    "    sentiment TEXT,\n",
    "    priority TEXT,\n",
    "    phone TEXT,\n",
    "    emails_found TEXT,\n",
    "    request_summary TEXT,\n",
    "    draft_reply TEXT\n",
    ")\n",
    "''')\n",
    "conn.commit()\n",
    "\n",
    "# Insert emails into database\n",
    "for email in emails:\n",
    "    cursor.execute('''\n",
    "        INSERT INTO emails \n",
    "        (sender, subject, body, date_received, sentiment, priority, phone, emails_found, request_summary, draft_reply)\n",
    "        VALUES (?, ?, ?, ?, ?, ?, ?, ?, ?, ?)\n",
    "    ''', (\n",
    "        email['sender'],\n",
    "        email['subject'],\n",
    "        email['body'],\n",
    "        email['date'],\n",
    "        email['sentiment'],\n",
    "        email['priority'],\n",
    "        str(email['phone']),\n",
    "        str(email['emails_found']),\n",
    "        email['request_summary'],\n",
    "        email['draft_reply']\n",
    "    ))\n",
    "conn.commit()\n",
    "\n",
    "# Read database into DataFrame for dashboard\n",
    "df = pd.read_sql_query(\"SELECT * FROM emails\", conn)\n"
   ]
  },
  {
   "cell_type": "code",
   "execution_count": 18,
   "id": "65e91c8f",
   "metadata": {},
   "outputs": [
    {
     "name": "stderr",
     "output_type": "stream",
     "text": [
      "2025-09-06 14:08:51.652 Thread 'MainThread': missing ScriptRunContext! This warning can be ignored when running in bare mode.\n",
      "2025-09-06 14:08:51.655 Thread 'MainThread': missing ScriptRunContext! This warning can be ignored when running in bare mode.\n",
      "2025-09-06 14:08:51.655 Thread 'MainThread': missing ScriptRunContext! This warning can be ignored when running in bare mode.\n",
      "2025-09-06 14:08:51.656 Thread 'MainThread': missing ScriptRunContext! This warning can be ignored when running in bare mode.\n",
      "2025-09-06 14:08:51.663 Thread 'MainThread': missing ScriptRunContext! This warning can be ignored when running in bare mode.\n",
      "2025-09-06 14:08:51.663 Thread 'MainThread': missing ScriptRunContext! This warning can be ignored when running in bare mode.\n",
      "2025-09-06 14:08:51.663 Thread 'MainThread': missing ScriptRunContext! This warning can be ignored when running in bare mode.\n",
      "2025-09-06 14:08:51.663 Thread 'MainThread': missing ScriptRunContext! This warning can be ignored when running in bare mode.\n",
      "2025-09-06 14:08:51.678 Thread 'MainThread': missing ScriptRunContext! This warning can be ignored when running in bare mode.\n",
      "2025-09-06 14:08:51.678 Thread 'MainThread': missing ScriptRunContext! This warning can be ignored when running in bare mode.\n",
      "2025-09-06 14:08:51.681 Thread 'MainThread': missing ScriptRunContext! This warning can be ignored when running in bare mode.\n",
      "2025-09-06 14:08:51.682 Thread 'MainThread': missing ScriptRunContext! This warning can be ignored when running in bare mode.\n",
      "2025-09-06 14:08:51.712 Thread 'MainThread': missing ScriptRunContext! This warning can be ignored when running in bare mode.\n",
      "2025-09-06 14:08:52.019 Thread 'MainThread': missing ScriptRunContext! This warning can be ignored when running in bare mode.\n",
      "2025-09-06 14:08:52.019 Thread 'MainThread': missing ScriptRunContext! This warning can be ignored when running in bare mode.\n"
     ]
    },
    {
     "data": {
      "text/plain": [
       "DeltaGenerator()"
      ]
     },
     "execution_count": 18,
     "metadata": {},
     "output_type": "execute_result"
    },
    {
     "data": {
      "image/png": "[encoded data removed]",
      "text/plain": [
       "<Figure size 1296x360 with 3 Axes>"
      ]
     },
     "metadata": {
      "needs_background": "light"
     },
     "output_type": "display_data"
    }
   ],
   "source": [
    "# Streamlit Dashboard\n",
    "st.title(\"AI-Powered Communication Assistant Dashboard\")\n",
    "\n",
    "# Ensure 'status' column exists\n",
    "if 'status' not in df.columns:\n",
    "    df['status'] = 'Pending'\n",
    "\n",
    "# Display emails\n",
    "st.subheader(\"Filtered Emails\")\n",
    "st.dataframe(df[['sender','subject','body','date_received','sentiment','priority',\n",
    "                 'phone','emails_found','request_summary','draft_reply','status']])\n",
    "\n",
    "# Analytics\n",
    "st.subheader(\"Analytics\")\n",
    "\n",
    "# Total emails in last 24 hours\n",
    "from dateutil import parser\n",
    "\n",
    "def safe_parse_date(date_str):\n",
    "    try:\n",
    "        return parser.parse(date_str)\n",
    "    except:\n",
    "        return datetime.now()\n",
    "\n",
    "df['date_received_dt'] = df['date_received'].apply(safe_parse_date)\n",
    "df['date_received_dt'] = df['date_received_dt'].apply(lambda x: x.replace(tzinfo=None) if x.tzinfo else x)\n",
    "\n",
    "last_24h = datetime.now()\n",
    "total_24h = df[df['date_received_dt'] >= (last_24h - timedelta(hours=24))].shape[0]\n",
    "\n",
    "# Pending & Resolved counts\n",
    "pending_count = df[df['status'] == 'Pending'].shape[0]\n",
    "resolved_count = df[df['status'] == 'Resolved'].shape[0]\n",
    "\n",
    "st.markdown(f\"**Total emails in last 24h:** {total_24h}  |  **Pending:** {pending_count}  |  **Resolved:** {resolved_count}\")\n",
    "\n",
    "# Graphs\n",
    "st.subheader(\"Visual Insights\")\n",
    "\n",
    "fig, ax = plt.subplots(1,3, figsize=(18,5))\n",
    "\n",
    "sns.countplot(x='sentiment', data=df, ax=ax[0])\n",
    "ax[0].set_title(\"Sentiment Distribution\")\n",
    "\n",
    "sns.countplot(x='priority', data=df, ax=ax[1])\n",
    "ax[1].set_title(\"Priority Distribution\")\n",
    "\n",
    "sns.countplot(x='status', data=df, ax=ax[2])\n",
    "ax[2].set_title(\"Status Distribution\")\n",
    "\n",
    "st.pyplot(fig)\n"
   ]
  }
 ],
 "metadata": {
  "kernelspec": {
   "display_name": "Python 3 (ipykernel)",
   "language": "python",
   "name": "python3"
  },
  "language_info": {
   "codemirror_mode": {
    "name": "ipython",
    "version": 3
   },
   "file_extension": ".py",
   "mimetype": "text/x-python",
   "name": "python",
   "nbconvert_exporter": "python",
   "pygments_lexer": "ipython3",
   "version": "3.9.1"
  }
 },
 "nbformat": 4,
 "nbformat_minor": 5
}
